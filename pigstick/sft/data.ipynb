{
 "cells": [
  {
   "cell_type": "code",
   "execution_count": 1,
   "metadata": {},
   "outputs": [
    {
     "name": "stderr",
     "output_type": "stream",
     "text": [
      "/home/tsawada/.venvs/pigstick/lib/python3.10/site-packages/tqdm/auto.py:21: TqdmWarning: IProgress not found. Please update jupyter and ipywidgets. See https://ipywidgets.readthedocs.io/en/stable/user_install.html\n",
      "  from .autonotebook import tqdm as notebook_tqdm\n"
     ]
    }
   ],
   "source": [
    "# ! pip install pandas\n",
    "# ! pip install datasets\n",
    "import pandas as pd\n",
    "from datasets import load_dataset"
   ]
  },
  {
   "cell_type": "code",
   "execution_count": 2,
   "metadata": {},
   "outputs": [],
   "source": [
    "## UltraInteract_sft\n",
    "\n",
    "df_ultrainteract = (\n",
    "    pd.read_parquet(\"https://huggingface.co/datasets/openbmb/UltraInteract_sft/resolve/main/0000_sft.parquet\")\n",
    "    # .groupby('horoscope')['text']\n",
    "    # .apply(lambda x: x.str.len().mean())\n",
    "    # .sort_values(ascending=False)\n",
    ")"
   ]
  },
  {
   "cell_type": "code",
   "execution_count": 3,
   "metadata": {},
   "outputs": [],
   "source": [
    "# df_ultrainteract.head\n",
    "# df_ultrainteract.columns\n",
    "df_ultrainteract = df_ultrainteract[[\"instruction\", \"response\"]]"
   ]
  },
  {
   "cell_type": "code",
   "execution_count": 4,
   "metadata": {},
   "outputs": [],
   "source": [
    "# Github Code\n",
    "urls = [\"https://huggingface.co/datasets/codeparrot/github-code/resolve/main/data/train-00000-of-01126.parquet\", \"https://huggingface.co/datasets/codeparrot/github-code/resolve/main/data/train-00001-of-01126.parquet\"]\n",
    "df_github = (\n",
    "      pd.concat([pd.read_parquet(url) for url in urls])\n",
    "      # .groupby('horoscope')['text']\n",
    "      # .apply(lambda x: x.str.len().mean())\n",
    "      # .sort_values(ascending=False)\n",
    "      # .head(5)\n",
    ")"
   ]
  },
  {
   "cell_type": "code",
   "execution_count": 5,
   "metadata": {},
   "outputs": [],
   "source": [
    "# Set display options to show all rows and full column width\n",
    "pd.set_option('display.max_rows', None)\n",
    "pd.set_option('display.max_columns', None)\n",
    "pd.set_option('display.width', None)\n",
    "pd.set_option('display.max_colwidth', None)\n",
    "\n",
    "# Now view your data\n",
    "# print(df_github[\"content\"])"
   ]
  },
  {
   "cell_type": "code",
   "execution_count": 6,
   "metadata": {},
   "outputs": [
    {
     "name": "stdout",
     "output_type": "stream",
     "text": [
      "0    'use strict';\\n\\nvar clear          = require('es5-ext/array/#/clear')\\n  , eIndexOf       = require('es5-ext/array/#/e-index-of')\\n  , setPrototypeOf = require('es5-ext/object/set-prototype-of')\\n  , callable       = require('es5-ext/object/valid-callable')\\n  , d              = require('d')\\n  , ee             = require('event-emitter')\\n  , Symbol         = require('es6-symbol')\\n  , iterator       = require('es6-iterator/valid-iterable')\\n  , forOf          = require('es6-iterator/for-of')\\n  , Iterator       = require('./lib/iterator')\\n  , isNative       = require('./is-native-implemented')\\n\\n  , call = Function.prototype.call, defineProperty = Object.defineProperty\\n  , SetPoly, getValues;\\n\\nmodule.exports = SetPoly = function (/*iterable*/) {\\n\\tvar iterable = arguments[0];\\n\\tif (!(this instanceof SetPoly)) return new SetPoly(iterable);\\n\\tif (this.__setData__ !== undefined) {\\n\\t\\tthrow new TypeError(this + \" cannot be reinitialized\");\\n\\t}\\n\\tif (iterable != null) iterator(iterable);\\n\\tdefineProperty(this, '__setData__', d('c', []));\\n\\tif (!iterable) return;\\n\\tforOf(iterable, function (value) {\\n\\t\\tif (eIndexOf.call(this, value) !== -1) return;\\n\\t\\tthis.push(value);\\n\\t}, this.__setData__);\\n};\\n\\nif (isNative) {\\n\\tif (setPrototypeOf) setPrototypeOf(SetPoly, Set);\\n\\tSetPoly.prototype = Object.create(Set.prototype, {\\n\\t\\tconstructor: d(SetPoly)\\n\\t});\\n}\\n\\nee(Object.defineProperties(SetPoly.prototype, {\\n\\tadd: d(function (value) {\\n\\t\\tif (this.has(value)) return this;\\n\\t\\tthis.emit('_add', this.__setData__.push(value) - 1, value);\\n\\t\\treturn this;\\n\\t}),\\n\\tclear: d(function () {\\n\\t\\tif (!this.__setData__.length) return;\\n\\t\\tclear.call(this.__setData__);\\n\\t\\tthis.emit('_clear');\\n\\t}),\\n\\tdelete: d(function (value) {\\n\\t\\tvar index = eIndexOf.call(this.__setData__, value);\\n\\t\\tif (index === -1) return false;\\n\\t\\tthis.__setData__.splice(index, 1);\\n\\t\\tthis.emit('_delete', index, value);\\n\\t\\treturn true;\\n\\t}),\\n\\tentries: d(function () { return new Iterator(this, 'key+value'); }),\\n\\tforEach: d(function (cb/*, thisArg*/) {\\n\\t\\tvar thisArg = arguments[1], iterator, result, value;\\n\\t\\tcallable(cb);\\n\\t\\titerator = this.values();\\n\\t\\tresult = iterator._next();\\n\\t\\twhile (result !== undefined) {\\n\\t\\t\\tvalue = iterator._resolve(result);\\n\\t\\t\\tcall.call(cb, thisArg, value, value, this);\\n\\t\\t\\tresult = iterator._next();\\n\\t\\t}\\n\\t}),\\n\\thas: d(function (value) {\\n\\t\\treturn (eIndexOf.call(this.__setData__, value) !== -1);\\n\\t}),\\n\\tkeys: d(getValues = function () { return this.values(); }),\\n\\tsize: d.gs(function () { return this.__setData__.length; }),\\n\\tvalues: d(function () { return new Iterator(this); }),\\n\\ttoString: d(function () { return '[object Set]'; })\\n}));\\ndefineProperty(SetPoly.prototype, Symbol.iterator, d(getValues));\\ndefineProperty(SetPoly.prototype, Symbol.toStringTag, d('c', 'Set'));\\n\n",
      "1                                                                                                                                                                                                                                                                                                                                                                                                                                                                                                                                                                                                                                                                                                                                                                                                                                                                                                                                                                                                                                                                                                                                                                                                                                                                                                                                                                                                                                                                                                                                                                                                                                                                                                                                                                                                                                                                                                                                                                                                                                                                                                                                                                                                                                                                                                                                                                                                                                                                                                                                                                                                                                                                                                                'use strict';\\n\\nconst TYPE = Symbol.for('type');\\n\\nclass Data {\\n\\n  constructor(options) {\\n    // File details\\n    this.filepath = options.filepath;\\n\\n    // Type\\n    this[TYPE] = 'data';\\n\\n    // Data\\n    Object.assign(this, options.data);\\n  }\\n}\\n\\nmodule.exports = Data;\\n\n",
      "Name: content, dtype: object\n"
     ]
    }
   ],
   "source": [
    "# print(df_github.head)\n",
    "# print(df_github.columns)\n",
    "print(df_github[\"content\"].head(2))\n",
    "# df_github = df_github[[\"instruction\", \"response\"]]"
   ]
  },
  {
   "cell_type": "code",
   "execution_count": 15,
   "metadata": {},
   "outputs": [
    {
     "name": "stdout",
     "output_type": "stream",
     "text": [
      "Index(['repo_name', 'path', 'size', 'content', 'license'], dtype='object')\n"
     ]
    }
   ],
   "source": [
    "print(df_github.columns)\n"
   ]
  },
  {
   "cell_type": "code",
   "execution_count": 22,
   "metadata": {},
   "outputs": [
    {
     "name": "stdout",
     "output_type": "stream",
     "text": [
      "System.register([\"angular2/test_lib\", \"angular2/src/test_lib/test_bed\", \"angular2/src/core/annotations_impl/annotations\", \"angular2/src/core/annotations_impl/view\", \"angular2/src/core/compiler/dynamic_component_loader\", \"angular2/src/core/compiler/element_ref\", \"angular2/src/directives/if\", \"angular2/src/render/dom/direct_dom_renderer\", \"angular2/src/dom/dom_adapter\"], function($__export) {\n",
      "  \"use strict\";\n",
      "  var AsyncTestCompleter,\n",
      "      beforeEach,\n",
      "      ddescribe,\n",
      "      xdescribe,\n",
      "      describe,\n",
      "      el,\n",
      "      dispatchEvent,\n",
      "      expect,\n",
      "      iit,\n",
      "      inject,\n",
      "      beforeEachBindings,\n",
      "      it,\n",
      "      xit,\n",
      "      TestBed,\n",
      "      Component,\n",
      "      View,\n",
      "      DynamicComponentLoader,\n",
      "      ElementRef,\n",
      "      If,\n",
      "      DirectDomRenderer,\n",
      "      DOM,\n",
      "      ImperativeViewComponentUsingNgComponent,\n",
      "      ChildComp,\n",
      "      DynamicallyCreatedComponentService,\n",
      "      DynamicComp,\n",
      "      DynamicallyCreatedCmp,\n",
      "      DynamicallyLoaded,\n",
      "      DynamicallyLoaded2,\n",
      "      DynamicallyLoadedWithHostProps\n"
     ]
    }
   ],
   "source": [
    "print(df_github[\"content\"].iloc[16][:1000])"
   ]
  },
  {
   "cell_type": "code",
   "execution_count": 7,
   "metadata": {},
   "outputs": [],
   "source": [
    "# bigcodebench\n",
    "df_bcb = (\n",
    "    pd.read_parquet(\"https://huggingface.co/datasets/bigcode/bigcodebench/resolve/main/data/v0.1.0-00000-of-00001.parquet\")\n",
    "    # .groupby('horoscope')['text']\n",
    "    # .apply(lambda x: x.str.len().mean())\n",
    "    # .sort_values(ascending=False)\n",
    "    # .head(5)\n",
    ")"
   ]
  },
  {
   "cell_type": "code",
   "execution_count": 8,
   "metadata": {},
   "outputs": [],
   "source": [
    "# df_bcb.columns\n",
    "df_bcb = df_bcb[[\"instruct_prompt\", \"canonical_solution\"]]"
   ]
  }
 ],
 "metadata": {
  "kernelspec": {
   "display_name": "pigstick",
   "language": "python",
   "name": "python3"
  },
  "language_info": {
   "codemirror_mode": {
    "name": "ipython",
    "version": 3
   },
   "file_extension": ".py",
   "mimetype": "text/x-python",
   "name": "python",
   "nbconvert_exporter": "python",
   "pygments_lexer": "ipython3",
   "version": "3.10.12"
  }
 },
 "nbformat": 4,
 "nbformat_minor": 2
}
