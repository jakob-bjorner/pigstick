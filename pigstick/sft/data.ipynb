{
 "cells": [
  {
   "cell_type": "code",
   "execution_count": 132,
   "metadata": {},
   "outputs": [],
   "source": [
    "# ! pip install pandas\n",
    "# ! pip install datasets\n",
    "import pandas as pd\n",
    "from datasets import load_dataset"
   ]
  },
  {
   "cell_type": "code",
   "execution_count": 133,
   "metadata": {},
   "outputs": [],
   "source": [
    "## UltraInteract_sft\n",
    "\n",
    "df_ultrainteract = (\n",
    "    pd.read_parquet(\"https://huggingface.co/datasets/openbmb/UltraInteract_sft/resolve/main/0000_sft.parquet\")\n",
    "    # .groupby('horoscope')['text']\n",
    "    # .apply(lambda x: x.str.len().mean())\n",
    "    # .sort_values(ascending=False)\n",
    ")"
   ]
  },
  {
   "cell_type": "code",
   "execution_count": 134,
   "metadata": {},
   "outputs": [],
   "source": [
    "# df_ultrainteract.head\n",
    "# df_ultrainteract.columns\n",
    "df_ultrainteract = df_ultrainteract[[\"instruction\", \"response\"]]"
   ]
  },
  {
   "cell_type": "code",
   "execution_count": 149,
   "metadata": {},
   "outputs": [],
   "source": [
    "df_ultrainteract['content'] = df_ultrainteract['instruction'] + ' ' + df_ultrainteract['response']"
   ]
  },
  {
   "cell_type": "code",
   "execution_count": 135,
   "metadata": {},
   "outputs": [],
   "source": [
    "# # Github Code\n",
    "# urls = [\"https://huggingface.co/datasets/codeparrot/github-code/resolve/main/data/train-00000-of-01126.parquet\", \"https://huggingface.co/datasets/codeparrot/github-code/resolve/main/data/train-00001-of-01126.parquet\"]\n",
    "# df_github = (\n",
    "#       pd.concat([pd.read_parquet(url) for url in urls])\n",
    "#       # .groupby('horoscope')['text']\n",
    "#       # .apply(lambda x: x.str.len().mean())\n",
    "#       # .sort_values(ascending=False)\n",
    "#       # .head(5)\n",
    "# )"
   ]
  },
  {
   "cell_type": "code",
   "execution_count": 136,
   "metadata": {},
   "outputs": [],
   "source": [
    "ds_github = load_dataset(\"codeparrot/github-code\", streaming=True, split=\"train\", languages=[\"Python\"])\n",
    "ds_github_20p = ds_github.shuffle(seed=42).take(30000)\n"
   ]
  },
  {
   "cell_type": "code",
   "execution_count": 137,
   "metadata": {},
   "outputs": [],
   "source": [
    "df_github = pd.DataFrame(ds_github_20p)"
   ]
  },
  {
   "cell_type": "code",
   "execution_count": 138,
   "metadata": {},
   "outputs": [
    {
     "name": "stdout",
     "output_type": "stream",
     "text": [
      "6        Python\n",
      "17       Python\n",
      "43       Python\n",
      "52       Python\n",
      "65       Python\n",
      "          ...  \n",
      "29834    Python\n",
      "29839    Python\n",
      "29845    Python\n",
      "29878    Python\n",
      "29885    Python\n",
      "Name: language, Length: 1966, dtype: object\n"
     ]
    }
   ],
   "source": [
    "# df_test = df_github[[\"language\"]]\n",
    "df_github = df_github[df_github[\"language\"] == \"Python\"]\n",
    "print(df_github['language'])"
   ]
  },
  {
   "cell_type": "code",
   "execution_count": 139,
   "metadata": {},
   "outputs": [],
   "source": [
    "# # Set display options to show all rows and full column width\n",
    "# pd.set_option('display.max_rows', None)\n",
    "# pd.set_option('display.max_columns', None)\n",
    "# pd.set_option('display.width', None)\n",
    "# pd.set_option('display.max_colwidth', None)\n",
    "\n",
    "# # Now view your data\n",
    "# # print(df_github[\"content\"])"
   ]
  },
  {
   "cell_type": "code",
   "execution_count": 140,
   "metadata": {},
   "outputs": [],
   "source": [
    "# # print(df_github.head)\n",
    "# # print(df_github.columns)\n",
    "# print(df_github[\"content\"].head(2))\n",
    "# # df_github = df_github[[\"instruction\", \"response\"]]"
   ]
  },
  {
   "cell_type": "code",
   "execution_count": 144,
   "metadata": {},
   "outputs": [],
   "source": [
    "# bigcodebench\n",
    "df_bcb = (\n",
    "    pd.read_parquet(\"https://huggingface.co/datasets/bigcode/bigcodebench/resolve/main/data/v0.1.0-00000-of-00001.parquet\")\n",
    "    # .groupby('horoscope')['text']\n",
    "    # .apply(lambda x: x.str.len().mean())\n",
    "    # .sort_values(ascending=False)\n",
    "    # .head(5)\n",
    ")"
   ]
  },
  {
   "cell_type": "code",
   "execution_count": 145,
   "metadata": {},
   "outputs": [],
   "source": [
    "# df_bcb.columns\n",
    "df_bcb = df_bcb[[\"instruct_prompt\", \"canonical_solution\"]]"
   ]
  },
  {
   "cell_type": "code",
   "execution_count": 148,
   "metadata": {},
   "outputs": [],
   "source": [
    "df_bcb['content'] = df_bcb['instruct_prompt'] + ' ' + df_bcb['canonical_solution']"
   ]
  },
  {
   "cell_type": "code",
   "execution_count": 150,
   "metadata": {},
   "outputs": [
    {
     "name": "stdout",
     "output_type": "stream",
     "text": [
      "Index(['instruction', 'response', 'content'], dtype='object')\n",
      "Index(['content', 'repo_name', 'path', 'language', 'license', 'size'], dtype='object')\n",
      "Index(['instruct_prompt', 'canonical_solution', 'content'], dtype='object')\n"
     ]
    }
   ],
   "source": [
    "df_github = df_github.rename(columns={\"code\": \"content\"})\n",
    "print(df_ultrainteract.columns)\n",
    "print(df_github.columns) \n",
    "print(df_bcb.columns)"
   ]
  },
  {
   "cell_type": "code",
   "execution_count": 151,
   "metadata": {},
   "outputs": [],
   "source": [
    "df_ultrainteract = df_ultrainteract[[\"content\"]]\n",
    "df_github = df_github[[\"content\"]]\n",
    "df_bcb = df_bcb[[\"content\"]]"
   ]
  },
  {
   "cell_type": "code",
   "execution_count": 153,
   "metadata": {},
   "outputs": [
    {
     "name": "stdout",
     "output_type": "stream",
     "text": [
      "Index(['content'], dtype='object')\n",
      "Index(['content'], dtype='object')\n",
      "Index(['content'], dtype='object')\n"
     ]
    }
   ],
   "source": [
    "print(df_ultrainteract.columns)\n",
    "print(df_github.columns) \n",
    "print(df_bcb.columns)\n",
    "\n",
    "df_combined = pd.concat([df_ultrainteract, df_github, df_bcb], ignore_index=True)"
   ]
  }
 ],
 "metadata": {
  "kernelspec": {
   "display_name": "pigstick",
   "language": "python",
   "name": "python3"
  },
  "language_info": {
   "codemirror_mode": {
    "name": "ipython",
    "version": 3
   },
   "file_extension": ".py",
   "mimetype": "text/x-python",
   "name": "python",
   "nbconvert_exporter": "python",
   "pygments_lexer": "ipython3",
   "version": "3.10.12"
  }
 },
 "nbformat": 4,
 "nbformat_minor": 2
}
