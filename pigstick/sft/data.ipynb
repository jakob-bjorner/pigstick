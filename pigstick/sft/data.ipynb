{
 "cells": [
  {
   "cell_type": "code",
   "execution_count": 60,
   "metadata": {},
   "outputs": [],
   "source": [
    "# ! pip install pandas\n",
    "# ! pip install datasets\n",
    "import pandas as pd\n",
    "from datasets import load_dataset"
   ]
  },
  {
   "cell_type": "code",
   "execution_count": 61,
   "metadata": {},
   "outputs": [],
   "source": [
    "## UltraInteract_sft\n",
    "\n",
    "df_ultrainteract = (\n",
    "    pd.read_parquet(\"https://huggingface.co/datasets/openbmb/UltraInteract_sft/resolve/main/0000_sft.parquet\")\n",
    "    # .groupby('horoscope')['text']\n",
    "    # .apply(lambda x: x.str.len().mean())\n",
    "    # .sort_values(ascending=False)\n",
    ")"
   ]
  },
  {
   "cell_type": "code",
   "execution_count": 62,
   "metadata": {},
   "outputs": [],
   "source": [
    "# df_ultrainteract.head\n",
    "# df_ultrainteract.columns\n",
    "df_ultrainteract = df_ultrainteract[[\"instruction\", \"response\"]]"
   ]
  },
  {
   "cell_type": "code",
   "execution_count": 63,
   "metadata": {},
   "outputs": [],
   "source": [
    "# Github Code\n",
    "urls = [\"https://huggingface.co/datasets/codeparrot/github-code/resolve/main/data/train-00000-of-01126.parquet\", \"https://huggingface.co/datasets/codeparrot/github-code/resolve/main/data/train-00001-of-01126.parquet\"]\n",
    "df_github = (\n",
    "      pd.concat([pd.read_parquet(url) for url in urls])\n",
    "      # .groupby('horoscope')['text']\n",
    "      # .apply(lambda x: x.str.len().mean())\n",
    "      # .sort_values(ascending=False)\n",
    "      # .head(5)\n",
    ")"
   ]
  },
  {
   "cell_type": "code",
   "execution_count": 72,
   "metadata": {},
   "outputs": [
    {
     "name": "stdout",
     "output_type": "stream",
     "text": [
      "0         'use strict';\\n\\nvar clear          = require(...\n",
      "1         'use strict';\\n\\nconst TYPE = Symbol.for('type...\n",
      "2         package sodium\\n\\n// #cgo pkg-config: libsodiu...\n",
      "3         \\nfunction collectWithWildcard(test) {\\n\\ttest...\n",
      "4         <?php\\n\\ninterface Container {\\n    /**\\n     ...\n",
      "                                ...                        \n",
      "102204    /**\\n * @file RelaxationCalculator.h\\n *\\n * T...\n",
      "102205    Brewbit::Engine.routes.draw do\\n\\n  scope 'das...\n",
      "102206                                       package conv\\n\n",
      "102207    namespace Shade.Helios.Entities\\n{\\n   public ...\n",
      "102208    create extension postgis;\\n\\nCREATE OR REPLACE...\n",
      "Name: content, Length: 204418, dtype: object\n"
     ]
    }
   ],
   "source": [
    "# print(df_github.head)\n",
    "# print(df_github.columns)\n",
    "print(df_github[\"content\"])\n",
    "# df_github = df_github[[\"instruction\", \"response\"]]"
   ]
  },
  {
   "cell_type": "code",
   "execution_count": 67,
   "metadata": {},
   "outputs": [],
   "source": [
    "# bigcodebench\n",
    "df_bcb = (\n",
    "    pd.read_parquet(\"https://huggingface.co/datasets/bigcode/bigcodebench/resolve/main/data/v0.1.0-00000-of-00001.parquet\")\n",
    "    # .groupby('horoscope')['text']\n",
    "    # .apply(lambda x: x.str.len().mean())\n",
    "    # .sort_values(ascending=False)\n",
    "    # .head(5)\n",
    ")"
   ]
  },
  {
   "cell_type": "code",
   "execution_count": 70,
   "metadata": {},
   "outputs": [],
   "source": [
    "# df_bcb.columns\n",
    "df_bcb = df_bcb[[\"instruct_prompt\", \"canonical_solution\"]]"
   ]
  }
 ],
 "metadata": {
  "kernelspec": {
   "display_name": "Python 3",
   "language": "python",
   "name": "python3"
  },
  "language_info": {
   "codemirror_mode": {
    "name": "ipython",
    "version": 3
   },
   "file_extension": ".py",
   "mimetype": "text/x-python",
   "name": "python",
   "nbconvert_exporter": "python",
   "pygments_lexer": "ipython3",
   "version": "3.10.15"
  }
 },
 "nbformat": 4,
 "nbformat_minor": 2
}
